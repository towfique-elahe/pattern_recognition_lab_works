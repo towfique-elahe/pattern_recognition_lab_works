{
  "nbformat": 4,
  "nbformat_minor": 0,
  "metadata": {
    "colab": {
      "name": "Multilayer Perceptron Implementation for Image Classification.ipynb",
      "provenance": [],
      "collapsed_sections": []
    },
    "kernelspec": {
      "name": "python3",
      "display_name": "Python 3"
    },
    "language_info": {
      "name": "python"
    }
  },
  "cells": [
    {
      "cell_type": "markdown",
      "source": [
        "# Data Description\n",
        "> It is a dataset of 60,000 small rectangular 28x28 pixel grayscale pictures of\n",
        "items from ten different categories of apparel, including shoes, t-shirts, dresses, and more. The following table shows the mapping of all 0-9 numbers to class labels.\n",
        "\n",
        "0.   T-shirt/top\n",
        "1.   Trouser\n",
        "2.   Pullover\n",
        "3.   Dress\n",
        "4.   Coat\n",
        "5.   Sandal\n",
        "6.   Shirt\n",
        "7.   Sneaker\n",
        "8.   Bag\n",
        "9.   Ankle boot\n",
        "\n",
        "\n"
      ],
      "metadata": {
        "id": "dvXaUz4uJcIS"
      }
    },
    {
      "cell_type": "code",
      "metadata": {
        "id": "IfnG2jIBueNy"
      },
      "source": [
        "import tensorflow as tf\n",
        "from tensorflow.keras.layers import Dense, Activation, Dropout\n",
        "from tensorflow.keras.models import Model\n",
        "import matplotlib.pyplot as plt\n",
        "import numpy as np"
      ],
      "execution_count": 1,
      "outputs": []
    },
    {
      "cell_type": "markdown",
      "source": [
        "# Loading Dataset"
      ],
      "metadata": {
        "id": "kG3Mmcz5LYKn"
      }
    },
    {
      "cell_type": "code",
      "metadata": {
        "id": "y0Qhq27KvEWr",
        "colab": {
          "base_uri": "https://localhost:8080/"
        },
        "outputId": "d2d8f2a8-67ef-4db5-c9b1-996d989fb042"
      },
      "source": [
        "mnist_fashion = tf.keras.datasets.fashion_mnist\n",
        "\n",
        "(xtrain, ytrain), (xtest, ytest) = mnist_fashion.load_data()\n"
      ],
      "execution_count": 2,
      "outputs": [
        {
          "output_type": "stream",
          "name": "stdout",
          "text": [
            "Downloading data from https://storage.googleapis.com/tensorflow/tf-keras-datasets/train-labels-idx1-ubyte.gz\n",
            "32768/29515 [=================================] - 0s 0us/step\n",
            "40960/29515 [=========================================] - 0s 0us/step\n",
            "Downloading data from https://storage.googleapis.com/tensorflow/tf-keras-datasets/train-images-idx3-ubyte.gz\n",
            "26427392/26421880 [==============================] - 0s 0us/step\n",
            "26435584/26421880 [==============================] - 0s 0us/step\n",
            "Downloading data from https://storage.googleapis.com/tensorflow/tf-keras-datasets/t10k-labels-idx1-ubyte.gz\n",
            "16384/5148 [===============================================================================================] - 0s 0us/step\n",
            "Downloading data from https://storage.googleapis.com/tensorflow/tf-keras-datasets/t10k-images-idx3-ubyte.gz\n",
            "4423680/4422102 [==============================] - 0s 0us/step\n",
            "4431872/4422102 [==============================] - 0s 0us/step\n"
          ]
        }
      ]
    },
    {
      "cell_type": "code",
      "metadata": {
        "colab": {
          "base_uri": "https://localhost:8080/"
        },
        "id": "_TgixdRJvL1r",
        "outputId": "bbbfbc0a-517a-4cde-f4bf-f0165b4c5afe"
      },
      "source": [
        "xtrain.shape, xtest.shape"
      ],
      "execution_count": 3,
      "outputs": [
        {
          "output_type": "execute_result",
          "data": {
            "text/plain": [
              "((60000, 28, 28), (10000, 28, 28))"
            ]
          },
          "metadata": {},
          "execution_count": 3
        }
      ]
    },
    {
      "cell_type": "code",
      "metadata": {
        "colab": {
          "base_uri": "https://localhost:8080/"
        },
        "id": "FhI0DNpDvLzD",
        "outputId": "1b0f475b-13a8-45f9-98f8-e0f0c3c6e2f8"
      },
      "source": [
        "ytrain.shape"
      ],
      "execution_count": 4,
      "outputs": [
        {
          "output_type": "execute_result",
          "data": {
            "text/plain": [
              "(60000,)"
            ]
          },
          "metadata": {},
          "execution_count": 4
        }
      ]
    },
    {
      "cell_type": "code",
      "metadata": {
        "colab": {
          "base_uri": "https://localhost:8080/"
        },
        "id": "j3ubEp5Gdhf2",
        "outputId": "0a443a5f-166c-475a-c451-a454be976e3a"
      },
      "source": [
        "k = len(set(ytrain))\n",
        "print('Number of classes :',k)"
      ],
      "execution_count": 5,
      "outputs": [
        {
          "output_type": "stream",
          "name": "stdout",
          "text": [
            "Number of classes : 10\n"
          ]
        }
      ]
    },
    {
      "cell_type": "markdown",
      "source": [
        "# Counting the number of unique train labels"
      ],
      "metadata": {
        "id": "T925id45LlbB"
      }
    },
    {
      "cell_type": "code",
      "metadata": {
        "colab": {
          "base_uri": "https://localhost:8080/"
        },
        "id": "wmYAnPXBvLv0",
        "outputId": "6ae10226-a06a-48df-e068-14842b094c1c"
      },
      "source": [
        "unique, counts = np.unique(ytrain, return_counts=True)\n",
        "print(\"Occurrence of Train labels: \", dict(zip(unique, counts)))"
      ],
      "execution_count": 6,
      "outputs": [
        {
          "output_type": "stream",
          "name": "stdout",
          "text": [
            "Occurrence of Train labels:  {0: 6000, 1: 6000, 2: 6000, 3: 6000, 4: 6000, 5: 6000, 6: 6000, 7: 6000, 8: 6000, 9: 6000}\n"
          ]
        }
      ]
    },
    {
      "cell_type": "markdown",
      "source": [
        "# Counting the number of unique test labels"
      ],
      "metadata": {
        "id": "kDhxwqvhLrdR"
      }
    },
    {
      "cell_type": "code",
      "metadata": {
        "colab": {
          "base_uri": "https://localhost:8080/"
        },
        "id": "qks3o6LRvEM-",
        "outputId": "fc6a36e2-0cb8-4ccf-bef6-9a9e6256ed64"
      },
      "source": [
        "unique, counts = np.unique(ytest, return_counts=True)\n",
        "print(\"Occurrence of Test labels: \", dict(zip(unique, counts)))"
      ],
      "execution_count": 7,
      "outputs": [
        {
          "output_type": "stream",
          "name": "stdout",
          "text": [
            "Occurrence of Test labels:  {0: 1000, 1: 1000, 2: 1000, 3: 1000, 4: 1000, 5: 1000, 6: 1000, 7: 1000, 8: 1000, 9: 1000}\n"
          ]
        }
      ]
    },
    {
      "cell_type": "code",
      "metadata": {
        "colab": {
          "base_uri": "https://localhost:8080/"
        },
        "id": "ODx3UOdsvz8e",
        "outputId": "d369889d-0eef-4a12-e9cc-45ae7830e788"
      },
      "source": [
        "ran_images = np.random.randint(0, 60000, size=25)\n",
        "ran_images"
      ],
      "execution_count": 8,
      "outputs": [
        {
          "output_type": "execute_result",
          "data": {
            "text/plain": [
              "array([25522, 17571, 37910, 35171,  1430, 23366, 12600, 10633,  8528,\n",
              "       57644, 42199, 55267, 25518, 53432, 30721, 14770, 13491, 53548,\n",
              "       54376, 29247, 31093, 44872,  9591, 50396, 25215])"
            ]
          },
          "metadata": {},
          "execution_count": 8
        }
      ]
    },
    {
      "cell_type": "code",
      "metadata": {
        "id": "OiV1RZ4PwygA"
      },
      "source": [
        "images = xtrain[ran_images]"
      ],
      "execution_count": 9,
      "outputs": []
    },
    {
      "cell_type": "code",
      "metadata": {
        "colab": {
          "base_uri": "https://localhost:8080/",
          "height": 575
        },
        "id": "Yp7HkSDgwycv",
        "outputId": "54ea70fe-7846-48e2-cdb7-d4c1c88af58d"
      },
      "source": [
        "plt.figure(figsize=(10,10))\n",
        "for i in range(len(ran_images)):\n",
        "    plt.subplot(5, 5, i+1)\n",
        "    image = images[i]\n",
        "    plt.imshow(image, cmap='gray')\n",
        "    plt.axis('off')\n",
        "    \n",
        "plt.show()\n"
      ],
      "execution_count": 10,
      "outputs": [
        {
          "output_type": "display_data",
          "data": {
            "image/png": "[encoded data removed]",
            "text/plain": [
              "<Figure size 720x720 with 25 Axes>"
            ]
          },
          "metadata": {
            "needs_background": "light"
          }
        }
      ]
    },
    {
      "cell_type": "code",
      "metadata": {
        "colab": {
          "base_uri": "https://localhost:8080/"
        },
        "id": "dHkwj5JWxfjM",
        "outputId": "3d85265c-f505-4cdd-ca30-86afcd0a4cd9"
      },
      "source": [
        "ytest[:9]"
      ],
      "execution_count": 11,
      "outputs": [
        {
          "output_type": "execute_result",
          "data": {
            "text/plain": [
              "array([9, 2, 1, 1, 6, 1, 4, 6, 5], dtype=uint8)"
            ]
          },
          "metadata": {},
          "execution_count": 11
        }
      ]
    },
    {
      "cell_type": "code",
      "metadata": {
        "colab": {
          "base_uri": "https://localhost:8080/"
        },
        "id": "NhvITSVlZQ_Q",
        "outputId": "7f9cbd7e-aa92-40a2-caea-dd1dfb0686b6"
      },
      "source": [
        "xtrain.shape, ytrain.shape"
      ],
      "execution_count": 12,
      "outputs": [
        {
          "output_type": "execute_result",
          "data": {
            "text/plain": [
              "((60000, 28, 28), (60000,))"
            ]
          },
          "metadata": {},
          "execution_count": 12
        }
      ]
    },
    {
      "cell_type": "code",
      "metadata": {
        "colab": {
          "base_uri": "https://localhost:8080/"
        },
        "id": "zKhv68hxeHb-",
        "outputId": "b04ee700-b7dd-4042-8e49-947264c2e147"
      },
      "source": [
        "xtrain[:10]"
      ],
      "execution_count": 13,
      "outputs": [
        {
          "output_type": "execute_result",
          "data": {
            "text/plain": [
              "array([[[  0,   0,   0, ...,   0,   0,   0],\n",
              "        [  0,   0,   0, ...,   0,   0,   0],\n",
              "        [  0,   0,   0, ...,   0,   0,   0],\n",
              "        ...,\n",
              "        [  0,   0,   0, ...,   0,   0,   0],\n",
              "        [  0,   0,   0, ...,   0,   0,   0],\n",
              "        [  0,   0,   0, ...,   0,   0,   0]],\n",
              "\n",
              "       [[  0,   0,   0, ...,   0,   0,   0],\n",
              "        [  0,   0,   0, ...,   0,   0,   0],\n",
              "        [  0,   0,   0, ...,   0,   0,   0],\n",
              "        ...,\n",
              "        [  0,   0,   0, ...,   0,   0,   0],\n",
              "        [  0,   0,   0, ...,   0,   0,   0],\n",
              "        [  0,   0,   0, ...,   0,   0,   0]],\n",
              "\n",
              "       [[  0,   0,   0, ...,   0,   0,   0],\n",
              "        [  0,   0,   0, ...,   0,   0,   0],\n",
              "        [  0,   0,   0, ...,   0,   0,   0],\n",
              "        ...,\n",
              "        [  0,   0,   0, ...,   0,   0,   0],\n",
              "        [  0,   0,   0, ...,   0,   0,   0],\n",
              "        [  0,   0,   0, ...,   0,   0,   0]],\n",
              "\n",
              "       ...,\n",
              "\n",
              "       [[  0,   0,   0, ...,   0,   0,   0],\n",
              "        [  0,   0,   0, ...,   0,   0,   0],\n",
              "        [  0,   0,   0, ...,   0,   0,   0],\n",
              "        ...,\n",
              "        [  0,   0,   0, ..., 180,   0,   0],\n",
              "        [  0,   0,   0, ...,  72,   0,   0],\n",
              "        [  0,   0,   0, ...,  70,   0,   0]],\n",
              "\n",
              "       [[  0,   0,   0, ...,   0,   0,   0],\n",
              "        [  0,   0,   0, ...,   0,   0,   0],\n",
              "        [  0,   0,   0, ...,  39,   1,   0],\n",
              "        ...,\n",
              "        [  0,   0,   0, ..., 238,   0,   0],\n",
              "        [  0,   0,   0, ..., 131,   0,   0],\n",
              "        [  0,   0,   0, ...,   0,   0,   0]],\n",
              "\n",
              "       [[  0,   0,   0, ...,   0,   0,   0],\n",
              "        [  0,   0,   0, ...,   0,   0,   0],\n",
              "        [  0,   0,   0, ...,   7,   0,   0],\n",
              "        ...,\n",
              "        [  0,   0,   0, ...,   0,   9,   0],\n",
              "        [  0,   0,   0, ...,   0,   3,   0],\n",
              "        [  0,   0,   0, ...,   0,   0,   0]]], dtype=uint8)"
            ]
          },
          "metadata": {},
          "execution_count": 13
        }
      ]
    },
    {
      "cell_type": "markdown",
      "metadata": {
        "id": "rBNmLdGVeQLr"
      },
      "source": [
        "##Normalize data"
      ]
    },
    {
      "cell_type": "code",
      "metadata": {
        "id": "mP0bVvSueKk9"
      },
      "source": [
        "xtrain = xtrain / 255.0\n",
        "xtest = xtest / 255.0"
      ],
      "execution_count": 14,
      "outputs": []
    },
    {
      "cell_type": "code",
      "metadata": {
        "colab": {
          "base_uri": "https://localhost:8080/"
        },
        "id": "5Dr-yrOofk_K",
        "outputId": "9ebcd0da-a189-436d-ec36-64655702fe60"
      },
      "source": [
        "xtrain[:10]"
      ],
      "execution_count": 15,
      "outputs": [
        {
          "output_type": "execute_result",
          "data": {
            "text/plain": [
              "array([[[0.        , 0.        , 0.        , ..., 0.        ,\n",
              "         0.        , 0.        ],\n",
              "        [0.        , 0.        , 0.        , ..., 0.        ,\n",
              "         0.        , 0.        ],\n",
              "        [0.        , 0.        , 0.        , ..., 0.        ,\n",
              "         0.        , 0.        ],\n",
              "        ...,\n",
              "        [0.        , 0.        , 0.        , ..., 0.        ,\n",
              "         0.        , 0.        ],\n",
              "        [0.        , 0.        , 0.        , ..., 0.        ,\n",
              "         0.        , 0.        ],\n",
              "        [0.        , 0.        , 0.        , ..., 0.        ,\n",
              "         0.        , 0.        ]],\n",
              "\n",
              "       [[0.        , 0.        , 0.        , ..., 0.        ,\n",
              "         0.        , 0.        ],\n",
              "        [0.        , 0.        , 0.        , ..., 0.        ,\n",
              "         0.        , 0.        ],\n",
              "        [0.        , 0.        , 0.        , ..., 0.        ,\n",
              "         0.        , 0.        ],\n",
              "        ...,\n",
              "        [0.        , 0.        , 0.        , ..., 0.        ,\n",
              "         0.        , 0.        ],\n",
              "        [0.        , 0.        , 0.        , ..., 0.        ,\n",
              "         0.        , 0.        ],\n",
              "        [0.        , 0.        , 0.        , ..., 0.        ,\n",
              "         0.        , 0.        ]],\n",
              "\n",
              "       [[0.        , 0.        , 0.        , ..., 0.        ,\n",
              "         0.        , 0.        ],\n",
              "        [0.        , 0.        , 0.        , ..., 0.        ,\n",
              "         0.        , 0.        ],\n",
              "        [0.        , 0.        , 0.        , ..., 0.        ,\n",
              "         0.        , 0.        ],\n",
              "        ...,\n",
              "        [0.        , 0.        , 0.        , ..., 0.        ,\n",
              "         0.        , 0.        ],\n",
              "        [0.        , 0.        , 0.        , ..., 0.        ,\n",
              "         0.        , 0.        ],\n",
              "        [0.        , 0.        , 0.        , ..., 0.        ,\n",
              "         0.        , 0.        ]],\n",
              "\n",
              "       ...,\n",
              "\n",
              "       [[0.        , 0.        , 0.        , ..., 0.        ,\n",
              "         0.        , 0.        ],\n",
              "        [0.        , 0.        , 0.        , ..., 0.        ,\n",
              "         0.        , 0.        ],\n",
              "        [0.        , 0.        , 0.        , ..., 0.        ,\n",
              "         0.        , 0.        ],\n",
              "        ...,\n",
              "        [0.        , 0.        , 0.        , ..., 0.70588235,\n",
              "         0.        , 0.        ],\n",
              "        [0.        , 0.        , 0.        , ..., 0.28235294,\n",
              "         0.        , 0.        ],\n",
              "        [0.        , 0.        , 0.        , ..., 0.2745098 ,\n",
              "         0.        , 0.        ]],\n",
              "\n",
              "       [[0.        , 0.        , 0.        , ..., 0.        ,\n",
              "         0.        , 0.        ],\n",
              "        [0.        , 0.        , 0.        , ..., 0.        ,\n",
              "         0.        , 0.        ],\n",
              "        [0.        , 0.        , 0.        , ..., 0.15294118,\n",
              "         0.00392157, 0.        ],\n",
              "        ...,\n",
              "        [0.        , 0.        , 0.        , ..., 0.93333333,\n",
              "         0.        , 0.        ],\n",
              "        [0.        , 0.        , 0.        , ..., 0.51372549,\n",
              "         0.        , 0.        ],\n",
              "        [0.        , 0.        , 0.        , ..., 0.        ,\n",
              "         0.        , 0.        ]],\n",
              "\n",
              "       [[0.        , 0.        , 0.        , ..., 0.        ,\n",
              "         0.        , 0.        ],\n",
              "        [0.        , 0.        , 0.        , ..., 0.        ,\n",
              "         0.        , 0.        ],\n",
              "        [0.        , 0.        , 0.        , ..., 0.02745098,\n",
              "         0.        , 0.        ],\n",
              "        ...,\n",
              "        [0.        , 0.        , 0.        , ..., 0.        ,\n",
              "         0.03529412, 0.        ],\n",
              "        [0.        , 0.        , 0.        , ..., 0.        ,\n",
              "         0.01176471, 0.        ],\n",
              "        [0.        , 0.        , 0.        , ..., 0.        ,\n",
              "         0.        , 0.        ]]])"
            ]
          },
          "metadata": {},
          "execution_count": 15
        }
      ]
    },
    {
      "cell_type": "code",
      "metadata": {
        "colab": {
          "base_uri": "https://localhost:8080/"
        },
        "id": "XjAVFnw7gAUh",
        "outputId": "0eb2556d-c554-448b-e0a2-37270459f240"
      },
      "source": [
        "xtrain[1].shape"
      ],
      "execution_count": 16,
      "outputs": [
        {
          "output_type": "execute_result",
          "data": {
            "text/plain": [
              "(28, 28)"
            ]
          },
          "metadata": {},
          "execution_count": 16
        }
      ]
    },
    {
      "cell_type": "markdown",
      "metadata": {
        "id": "rrJ8uiaahzMK"
      },
      "source": [
        "## Flatten the images into 28*28 = 784\n"
      ]
    },
    {
      "cell_type": "code",
      "metadata": {
        "id": "hC9DJZ_jhiD3"
      },
      "source": [
        "xtrain = xtrain.reshape(len(xtrain), 28* 28)\n",
        "xtest = xtest.reshape(len(xtest), 28*28)"
      ],
      "execution_count": 17,
      "outputs": []
    },
    {
      "cell_type": "code",
      "metadata": {
        "colab": {
          "base_uri": "https://localhost:8080/"
        },
        "id": "ZwS7TvwFkIRG",
        "outputId": "9b4c6c85-115a-4400-cdea-5ac2fcb62e4c"
      },
      "source": [
        "xtrain.shape, xtest.shape"
      ],
      "execution_count": 18,
      "outputs": [
        {
          "output_type": "execute_result",
          "data": {
            "text/plain": [
              "((60000, 784), (10000, 784))"
            ]
          },
          "metadata": {},
          "execution_count": 18
        }
      ]
    },
    {
      "cell_type": "code",
      "metadata": {
        "colab": {
          "base_uri": "https://localhost:8080/"
        },
        "id": "zVUFTEj2lPle",
        "outputId": "063b6a98-ba12-42ca-b2a4-323482004535"
      },
      "source": [
        "model = tf.keras.Sequential()\n",
        "\n",
        "#Hidden Layers\n",
        "model.add(Dense(32, input_dim=784))\n",
        "model.add(Activation('relu'))\n",
        "\n",
        "model.add(Dense(64))\n",
        "model.add(Activation('relu'))\n",
        "\n",
        "model.add(Dense(128))\n",
        "model.add(Activation('relu'))\n",
        "\n",
        "#Output Layer\n",
        "model.add(Dense(k))  # k = classes of dataset\n",
        "model.add(Activation('softmax'))  # softmax returns a probabilistic value 0: 10%, 1: 20%.......9:40%\n",
        "model.summary()"
      ],
      "execution_count": 19,
      "outputs": [
        {
          "output_type": "stream",
          "name": "stdout",
          "text": [
            "Model: \"sequential\"\n",
            "_________________________________________________________________\n",
            " Layer (type)                Output Shape              Param #   \n",
            "=================================================================\n",
            " dense (Dense)               (None, 32)                25120     \n",
            "                                                                 \n",
            " activation (Activation)     (None, 32)                0         \n",
            "                                                                 \n",
            " dense_1 (Dense)             (None, 64)                2112      \n",
            "                                                                 \n",
            " activation_1 (Activation)   (None, 64)                0         \n",
            "                                                                 \n",
            " dense_2 (Dense)             (None, 128)               8320      \n",
            "                                                                 \n",
            " activation_2 (Activation)   (None, 128)               0         \n",
            "                                                                 \n",
            " dense_3 (Dense)             (None, 10)                1290      \n",
            "                                                                 \n",
            " activation_3 (Activation)   (None, 10)                0         \n",
            "                                                                 \n",
            "=================================================================\n",
            "Total params: 36,842\n",
            "Trainable params: 36,842\n",
            "Non-trainable params: 0\n",
            "_________________________________________________________________\n"
          ]
        }
      ]
    },
    {
      "cell_type": "markdown",
      "source": [
        "# Loss function, Adam Optimizer"
      ],
      "metadata": {
        "id": "qWwFsv5iMtE2"
      }
    },
    {
      "cell_type": "code",
      "metadata": {
        "colab": {
          "base_uri": "https://localhost:8080/"
        },
        "id": "NO9CPI4YlPb3",
        "outputId": "99242dde-7a42-4460-ef6b-86f783776f85"
      },
      "source": [
        "# loss function for one-hot vector\n",
        "# use of adam optimizer\n",
        "# accuracy is good metric for classification tasks\n",
        "model.compile(optimizer='adam',\n",
        "              loss='sparse_categorical_crossentropy',\n",
        "              metrics=['accuracy'])\n",
        "\n",
        "# train the network\n",
        "r = model.fit(xtrain,\n",
        "              ytrain,\n",
        "              validation_data=(xtest, ytest), # for evaluating\n",
        "              epochs=20,\n",
        "              batch_size=64)"
      ],
      "execution_count": 20,
      "outputs": [
        {
          "output_type": "stream",
          "name": "stdout",
          "text": [
            "Epoch 1/20\n",
            "938/938 [==============================] - 4s 3ms/step - loss: 0.5528 - accuracy: 0.8034 - val_loss: 0.4318 - val_accuracy: 0.8450\n",
            "Epoch 2/20\n",
            "938/938 [==============================] - 4s 4ms/step - loss: 0.3919 - accuracy: 0.8589 - val_loss: 0.4042 - val_accuracy: 0.8548\n",
            "Epoch 3/20\n",
            "938/938 [==============================] - 5s 5ms/step - loss: 0.3586 - accuracy: 0.8687 - val_loss: 0.3766 - val_accuracy: 0.8637\n",
            "Epoch 4/20\n",
            "938/938 [==============================] - 5s 6ms/step - loss: 0.3385 - accuracy: 0.8762 - val_loss: 0.3885 - val_accuracy: 0.8646\n",
            "Epoch 5/20\n",
            "938/938 [==============================] - 3s 3ms/step - loss: 0.3187 - accuracy: 0.8811 - val_loss: 0.3527 - val_accuracy: 0.8703\n",
            "Epoch 6/20\n",
            "938/938 [==============================] - 3s 3ms/step - loss: 0.3076 - accuracy: 0.8862 - val_loss: 0.3944 - val_accuracy: 0.8560\n",
            "Epoch 7/20\n",
            "938/938 [==============================] - 2s 3ms/step - loss: 0.2964 - accuracy: 0.8895 - val_loss: 0.3516 - val_accuracy: 0.8708\n",
            "Epoch 8/20\n",
            "938/938 [==============================] - 2s 3ms/step - loss: 0.2888 - accuracy: 0.8920 - val_loss: 0.3368 - val_accuracy: 0.8783\n",
            "Epoch 9/20\n",
            "938/938 [==============================] - 3s 3ms/step - loss: 0.2787 - accuracy: 0.8955 - val_loss: 0.3394 - val_accuracy: 0.8762\n",
            "Epoch 10/20\n",
            "938/938 [==============================] - 2s 3ms/step - loss: 0.2714 - accuracy: 0.8977 - val_loss: 0.3329 - val_accuracy: 0.8807\n",
            "Epoch 11/20\n",
            "938/938 [==============================] - 3s 3ms/step - loss: 0.2635 - accuracy: 0.8999 - val_loss: 0.3574 - val_accuracy: 0.8663\n",
            "Epoch 12/20\n",
            "938/938 [==============================] - 2s 3ms/step - loss: 0.2574 - accuracy: 0.9008 - val_loss: 0.3352 - val_accuracy: 0.8795\n",
            "Epoch 13/20\n",
            "938/938 [==============================] - 2s 3ms/step - loss: 0.2505 - accuracy: 0.9045 - val_loss: 0.3445 - val_accuracy: 0.8735\n",
            "Epoch 14/20\n",
            "938/938 [==============================] - 2s 3ms/step - loss: 0.2486 - accuracy: 0.9065 - val_loss: 0.3527 - val_accuracy: 0.8724\n",
            "Epoch 15/20\n",
            "938/938 [==============================] - 2s 3ms/step - loss: 0.2394 - accuracy: 0.9095 - val_loss: 0.3373 - val_accuracy: 0.8795\n",
            "Epoch 16/20\n",
            "938/938 [==============================] - 2s 3ms/step - loss: 0.2356 - accuracy: 0.9100 - val_loss: 0.3656 - val_accuracy: 0.8725\n",
            "Epoch 17/20\n",
            "938/938 [==============================] - 3s 3ms/step - loss: 0.2301 - accuracy: 0.9121 - val_loss: 0.3556 - val_accuracy: 0.8766\n",
            "Epoch 18/20\n",
            "938/938 [==============================] - 3s 3ms/step - loss: 0.2272 - accuracy: 0.9137 - val_loss: 0.3586 - val_accuracy: 0.8775\n",
            "Epoch 19/20\n",
            "938/938 [==============================] - 2s 3ms/step - loss: 0.2200 - accuracy: 0.9165 - val_loss: 0.3490 - val_accuracy: 0.8795\n",
            "Epoch 20/20\n",
            "938/938 [==============================] - 3s 3ms/step - loss: 0.2176 - accuracy: 0.9169 - val_loss: 0.3706 - val_accuracy: 0.8727\n"
          ]
        }
      ]
    },
    {
      "cell_type": "code",
      "metadata": {
        "colab": {
          "base_uri": "https://localhost:8080/",
          "height": 265
        },
        "id": "mr7PF7MVmWZK",
        "outputId": "8fef3120-19f3-49ae-f38a-ff5283a968ad"
      },
      "source": [
        "plt.plot(r.history['accuracy'], label=['acc'])\n",
        "plt.plot(r.history['val_accuracy'], label=['val_acc']);\n",
        "plt.legend();"
      ],
      "execution_count": 21,
      "outputs": [
        {
          "output_type": "display_data",
          "data": {
            "image/png": "[encoded data removed]",
            "text/plain": [
              "<Figure size 432x288 with 1 Axes>"
            ]
          },
          "metadata": {
            "needs_background": "light"
          }
        }
      ]
    },
    {
      "cell_type": "code",
      "metadata": {
        "colab": {
          "base_uri": "https://localhost:8080/",
          "height": 265
        },
        "id": "elyJV0UZnvKT",
        "outputId": "4f8e7603-4ba8-4155-def3-72daf08b1e73"
      },
      "source": [
        "plt.plot(r.history['loss'], label='loss')\n",
        "plt.plot(r.history['val_loss'], label='val_loss')\n",
        "plt.legend();"
      ],
      "execution_count": 22,
      "outputs": [
        {
          "output_type": "display_data",
          "data": {
            "image/png": "[encoded data removed]",
            "text/plain": [
              "<Figure size 432x288 with 1 Axes>"
            ]
          },
          "metadata": {
            "needs_background": "light"
          }
        }
      ]
    },
    {
      "cell_type": "markdown",
      "source": [
        "# Validating the model on test dataset"
      ],
      "metadata": {
        "id": "fLUcdvFMMQxR"
      }
    },
    {
      "cell_type": "code",
      "metadata": {
        "colab": {
          "base_uri": "https://localhost:8080/"
        },
        "id": "ytyKxpSOpu4F",
        "outputId": "90b4ab4a-b8df-4e7b-8ad3-8879bed5d12d"
      },
      "source": [
        "# validate the model on test dataset to determine generalization\n",
        "_, acc = model.evaluate(xtest,\n",
        "               ytest,\n",
        "               batch_size=64)\n",
        "print(\"\\nTest accuracy: %.1f%%\" % (100.0 * acc))"
      ],
      "execution_count": 23,
      "outputs": [
        {
          "output_type": "stream",
          "name": "stdout",
          "text": [
            "157/157 [==============================] - 0s 2ms/step - loss: 0.3706 - accuracy: 0.8727\n",
            "\n",
            "Test accuracy: 87.3%\n"
          ]
        }
      ]
    }
  ]
}