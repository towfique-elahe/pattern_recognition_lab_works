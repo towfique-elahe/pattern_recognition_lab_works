{
  "nbformat": 4,
  "nbformat_minor": 0,
  "metadata": {
    "colab": {
      "name": "decision_tree_implementation_using_id3_ algorithm.ipynb",
      "provenance": [],
      "collapsed_sections": []
    },
    "kernelspec": {
      "name": "python3",
      "display_name": "Python 3"
    },
    "language_info": {
      "name": "python"
    }
  },
  "cells": [
    {
      "cell_type": "markdown",
      "source": [
        "# Data Description\n",
        "The dataset contains a shop data.\n",
        "\n",
        "\n",
        "1.   age\n",
        "2.   income\n",
        "3.   gender\n",
        "4.   m_status\n",
        "5.   buys\n",
        "\n"
      ],
      "metadata": {
        "id": "c_T4HC_Z3Hsc"
      }
    },
    {
      "cell_type": "markdown",
      "source": [
        "# Importing required packages"
      ],
      "metadata": {
        "id": "PtWbwris3yMP"
      }
    },
    {
      "cell_type": "code",
      "execution_count": 33,
      "metadata": {
        "id": "1jfqqhYm4Aw1"
      },
      "outputs": [],
      "source": [
        "import pandas as pd\n",
        "import numpy as np\n",
        "from sklearn.metrics import confusion_matrix\n",
        "from sklearn.model_selection import train_test_split\n",
        "from sklearn.tree import DecisionTreeClassifier\n",
        "from sklearn.metrics import accuracy_score\n",
        "import seaborn as sns\n",
        "import matplotlib.pyplot as plt\n",
        "%matplotlib inline"
      ]
    },
    {
      "cell_type": "markdown",
      "source": [
        "# Loading the dataset and viewing the first 5 rows"
      ],
      "metadata": {
        "id": "4zNEiAX-36sQ"
      }
    },
    {
      "cell_type": "code",
      "source": [
        "df = pd.read_csv('/content/sample_data/shop data.csv')"
      ],
      "metadata": {
        "id": "h_fYAem84gWL"
      },
      "execution_count": 34,
      "outputs": []
    },
    {
      "cell_type": "code",
      "source": [
        "df.head(5)"
      ],
      "metadata": {
        "colab": {
          "base_uri": "https://localhost:8080/",
          "height": 206
        },
        "id": "4v6lZDQp4gSG",
        "outputId": "63dfc970-53b2-44e5-e6f8-3cb46c228af9"
      },
      "execution_count": 35,
      "outputs": [
        {
          "output_type": "execute_result",
          "data": {
            "text/plain": [
              "     age  income  gender m_status buys\n",
              "0    <25    high    male   single   no\n",
              "1    <25    high    male  married   no\n",
              "2  25-35    high    male   single  yes\n",
              "3    >35  medium    male   single  yes\n",
              "4    >35     low  female   single  yes"
            ],
            "text/html": [
              "\n",
              "  <div id=\"df-a80113f1-1737-4d9e-aa8c-c6cfbca3a556\">\n",
              "    <div class=\"colab-df-container\">\n",
              "      <div>\n",
              "<style scoped>\n",
              "    .dataframe tbody tr th:only-of-type {\n",
              "        vertical-align: middle;\n",
              "    }\n",
              "\n",
              "    .dataframe tbody tr th {\n",
              "        vertical-align: top;\n",
              "    }\n",
              "\n",
              "    .dataframe thead th {\n",
              "        text-align: right;\n",
              "    }\n",
              "</style>\n",
              "<table border=\"1\" class=\"dataframe\">\n",
              "  <thead>\n",
              "    <tr style=\"text-align: right;\">\n",
              "      <th></th>\n",
              "      <th>age</th>\n",
              "      <th>income</th>\n",
              "      <th>gender</th>\n",
              "      <th>m_status</th>\n",
              "      <th>buys</th>\n",
              "    </tr>\n",
              "  </thead>\n",
              "  <tbody>\n",
              "    <tr>\n",
              "      <th>0</th>\n",
              "      <td>&lt;25</td>\n",
              "      <td>high</td>\n",
              "      <td>male</td>\n",
              "      <td>single</td>\n",
              "      <td>no</td>\n",
              "    </tr>\n",
              "    <tr>\n",
              "      <th>1</th>\n",
              "      <td>&lt;25</td>\n",
              "      <td>high</td>\n",
              "      <td>male</td>\n",
              "      <td>married</td>\n",
              "      <td>no</td>\n",
              "    </tr>\n",
              "    <tr>\n",
              "      <th>2</th>\n",
              "      <td>25-35</td>\n",
              "      <td>high</td>\n",
              "      <td>male</td>\n",
              "      <td>single</td>\n",
              "      <td>yes</td>\n",
              "    </tr>\n",
              "    <tr>\n",
              "      <th>3</th>\n",
              "      <td>&gt;35</td>\n",
              "      <td>medium</td>\n",
              "      <td>male</td>\n",
              "      <td>single</td>\n",
              "      <td>yes</td>\n",
              "    </tr>\n",
              "    <tr>\n",
              "      <th>4</th>\n",
              "      <td>&gt;35</td>\n",
              "      <td>low</td>\n",
              "      <td>female</td>\n",
              "      <td>single</td>\n",
              "      <td>yes</td>\n",
              "    </tr>\n",
              "  </tbody>\n",
              "</table>\n",
              "</div>\n",
              "      <button class=\"colab-df-convert\" onclick=\"convertToInteractive('df-a80113f1-1737-4d9e-aa8c-c6cfbca3a556')\"\n",
              "              title=\"Convert this dataframe to an interactive table.\"\n",
              "              style=\"display:none;\">\n",
              "        \n",
              "  <svg xmlns=\"http://www.w3.org/2000/svg\" height=\"24px\"viewBox=\"0 0 24 24\"\n",
              "       width=\"24px\">\n",
              "    <path d=\"M0 0h24v24H0V0z\" fill=\"none\"/>\n",
              "    <path d=\"M18.56 5.44l.94 2.06.94-2.06 2.06-.94-2.06-.94-.94-2.06-.94 2.06-2.06.94zm-11 1L8.5 8.5l.94-2.06 2.06-.94-2.06-.94L8.5 2.5l-.94 2.06-2.06.94zm10 10l.94 2.06.94-2.06 2.06-.94-2.06-.94-.94-2.06-.94 2.06-2.06.94z\"/><path d=\"M17.41 7.96l-1.37-1.37c-.4-.4-.92-.59-1.43-.59-.52 0-1.04.2-1.43.59L10.3 9.45l-7.72 7.72c-.78.78-.78 2.05 0 2.83L4 21.41c.39.39.9.59 1.41.59.51 0 1.02-.2 1.41-.59l7.78-7.78 2.81-2.81c.8-.78.8-2.07 0-2.86zM5.41 20L4 18.59l7.72-7.72 1.47 1.35L5.41 20z\"/>\n",
              "  </svg>\n",
              "      </button>\n",
              "      \n",
              "  <style>\n",
              "    .colab-df-container {\n",
              "      display:flex;\n",
              "      flex-wrap:wrap;\n",
              "      gap: 12px;\n",
              "    }\n",
              "\n",
              "    .colab-df-convert {\n",
              "      background-color: #E8F0FE;\n",
              "      border: none;\n",
              "      border-radius: 50%;\n",
              "      cursor: pointer;\n",
              "      display: none;\n",
              "      fill: #1967D2;\n",
              "      height: 32px;\n",
              "      padding: 0 0 0 0;\n",
              "      width: 32px;\n",
              "    }\n",
              "\n",
              "    .colab-df-convert:hover {\n",
              "      background-color: #E2EBFA;\n",
              "      box-shadow: 0px 1px 2px rgba(60, 64, 67, 0.3), 0px 1px 3px 1px rgba(60, 64, 67, 0.15);\n",
              "      fill: #174EA6;\n",
              "    }\n",
              "\n",
              "    [theme=dark] .colab-df-convert {\n",
              "      background-color: #3B4455;\n",
              "      fill: #D2E3FC;\n",
              "    }\n",
              "\n",
              "    [theme=dark] .colab-df-convert:hover {\n",
              "      background-color: #434B5C;\n",
              "      box-shadow: 0px 1px 3px 1px rgba(0, 0, 0, 0.15);\n",
              "      filter: drop-shadow(0px 1px 2px rgba(0, 0, 0, 0.3));\n",
              "      fill: #FFFFFF;\n",
              "    }\n",
              "  </style>\n",
              "\n",
              "      <script>\n",
              "        const buttonEl =\n",
              "          document.querySelector('#df-a80113f1-1737-4d9e-aa8c-c6cfbca3a556 button.colab-df-convert');\n",
              "        buttonEl.style.display =\n",
              "          google.colab.kernel.accessAllowed ? 'block' : 'none';\n",
              "\n",
              "        async function convertToInteractive(key) {\n",
              "          const element = document.querySelector('#df-a80113f1-1737-4d9e-aa8c-c6cfbca3a556');\n",
              "          const dataTable =\n",
              "            await google.colab.kernel.invokeFunction('convertToInteractive',\n",
              "                                                     [key], {});\n",
              "          if (!dataTable) return;\n",
              "\n",
              "          const docLinkHtml = 'Like what you see? Visit the ' +\n",
              "            '<a target=\"_blank\" href=https://colab.research.google.com/notebooks/data_table.ipynb>data table notebook</a>'\n",
              "            + ' to learn more about interactive tables.';\n",
              "          element.innerHTML = '';\n",
              "          dataTable['output_type'] = 'display_data';\n",
              "          await google.colab.output.renderOutput(dataTable, element);\n",
              "          const docLink = document.createElement('div');\n",
              "          docLink.innerHTML = docLinkHtml;\n",
              "          element.appendChild(docLink);\n",
              "        }\n",
              "      </script>\n",
              "    </div>\n",
              "  </div>\n",
              "  "
            ]
          },
          "metadata": {},
          "execution_count": 35
        }
      ]
    },
    {
      "cell_type": "code",
      "source": [
        "df.info()"
      ],
      "metadata": {
        "colab": {
          "base_uri": "https://localhost:8080/"
        },
        "id": "9-qlZVmW4gOy",
        "outputId": "117c05e6-4769-4f67-91a3-03d037aed324"
      },
      "execution_count": 36,
      "outputs": [
        {
          "output_type": "stream",
          "name": "stdout",
          "text": [
            "<class 'pandas.core.frame.DataFrame'>\n",
            "RangeIndex: 22 entries, 0 to 21\n",
            "Data columns (total 5 columns):\n",
            " #   Column    Non-Null Count  Dtype \n",
            "---  ------    --------------  ----- \n",
            " 0   age       22 non-null     object\n",
            " 1   income    22 non-null     object\n",
            " 2   gender    22 non-null     object\n",
            " 3   m_status  22 non-null     object\n",
            " 4   buys      22 non-null     object\n",
            "dtypes: object(5)\n",
            "memory usage: 1008.0+ bytes\n"
          ]
        }
      ]
    },
    {
      "cell_type": "code",
      "source": [
        "df.shape"
      ],
      "metadata": {
        "colab": {
          "base_uri": "https://localhost:8080/"
        },
        "id": "V4Se-lbfL4FU",
        "outputId": "8c8f8221-a6cb-4c75-b113-64388d73507f"
      },
      "execution_count": 37,
      "outputs": [
        {
          "output_type": "execute_result",
          "data": {
            "text/plain": [
              "(22, 5)"
            ]
          },
          "metadata": {},
          "execution_count": 37
        }
      ]
    },
    {
      "cell_type": "code",
      "source": [
        "ages= df.age.values.tolist()"
      ],
      "metadata": {
        "id": "OTz-tTzeYoWf"
      },
      "execution_count": 38,
      "outputs": []
    },
    {
      "cell_type": "markdown",
      "source": [
        "**we have to preprocess age columns data, as it contains non-digit values as well**"
      ],
      "metadata": {
        "id": "HKvYMuC0VOO5"
      }
    },
    {
      "cell_type": "code",
      "source": [
        "\n",
        "import re\n",
        "ages = list()\n",
        "lines = df.age.values.tolist()\n",
        "for digit in lines:\n",
        "  patterns= re.compile('\\D+')\n",
        "  digit = patterns.sub('', digit)\n",
        "  \n",
        "  ages.append(digit)\n"
      ],
      "metadata": {
        "id": "mR0SXPQKXF43"
      },
      "execution_count": 39,
      "outputs": []
    },
    {
      "cell_type": "code",
      "source": [
        "df['ages'] = ages"
      ],
      "metadata": {
        "id": "_IlWMzB16hmE"
      },
      "execution_count": 40,
      "outputs": []
    },
    {
      "cell_type": "code",
      "source": [
        "df['ages'] = df['ages'].apply(lambda x: x.replace('2535', '30'))"
      ],
      "metadata": {
        "id": "Glez-rPO7UNO"
      },
      "execution_count": 41,
      "outputs": []
    },
    {
      "cell_type": "markdown",
      "source": [
        "# Converting required categorical features to numerical form (except target class)"
      ],
      "metadata": {
        "id": "3XcmM4iON2lU"
      }
    },
    {
      "cell_type": "code",
      "source": [
        "enc_dict = {'low':0,\n",
        "            'medium':1,\n",
        "            'high':2}\n",
        "            \n",
        "df['income_num'] = df['income'].map(enc_dict)"
      ],
      "metadata": {
        "id": "YMbMiQs8VkgG"
      },
      "execution_count": 42,
      "outputs": []
    },
    {
      "cell_type": "code",
      "source": [
        "df.drop(['income', 'age'], 1, inplace=True)"
      ],
      "metadata": {
        "colab": {
          "base_uri": "https://localhost:8080/"
        },
        "id": "2nPs_mdzVnE-",
        "outputId": "fad44bf6-fb67-4117-cf9b-777b09976c42"
      },
      "execution_count": 43,
      "outputs": [
        {
          "output_type": "stream",
          "name": "stderr",
          "text": [
            "/usr/local/lib/python3.7/dist-packages/ipykernel_launcher.py:1: FutureWarning: In a future version of pandas all arguments of DataFrame.drop except for the argument 'labels' will be keyword-only\n",
            "  \"\"\"Entry point for launching an IPython kernel.\n"
          ]
        }
      ]
    },
    {
      "cell_type": "code",
      "source": [
        "from sklearn import preprocessing\n",
        "\n",
        "col_cat = ['m_status', 'gender']\n",
        "\n",
        "lab_en= preprocessing.LabelEncoder()\n",
        "\n",
        "for c in col_cat:\n",
        "    df[c]= lab_en.fit_transform(df[c])"
      ],
      "metadata": {
        "id": "ztca7BaUGMLG"
      },
      "execution_count": 44,
      "outputs": []
    },
    {
      "cell_type": "markdown",
      "source": [
        "# Removing null values if required"
      ],
      "metadata": {
        "id": "41pnmEzEOD7U"
      }
    },
    {
      "cell_type": "code",
      "source": [
        "df.isnull().sum()"
      ],
      "metadata": {
        "colab": {
          "base_uri": "https://localhost:8080/"
        },
        "id": "zgTyWaPkKPQb",
        "outputId": "19995113-6d60-41cb-919a-1b8de3bd8067"
      },
      "execution_count": 45,
      "outputs": [
        {
          "output_type": "execute_result",
          "data": {
            "text/plain": [
              "gender        0\n",
              "m_status      0\n",
              "buys          0\n",
              "ages          0\n",
              "income_num    0\n",
              "dtype: int64"
            ]
          },
          "metadata": {},
          "execution_count": 45
        }
      ]
    },
    {
      "cell_type": "markdown",
      "source": [
        "**There is no null value**"
      ],
      "metadata": {
        "id": "Y5xvTCRiOFrC"
      }
    },
    {
      "cell_type": "code",
      "source": [
        "df.info()"
      ],
      "metadata": {
        "colab": {
          "base_uri": "https://localhost:8080/"
        },
        "id": "JhVzfvrMK60y",
        "outputId": "5e24b0f9-48e1-402e-9a60-02b95e9fa3f9"
      },
      "execution_count": 46,
      "outputs": [
        {
          "output_type": "stream",
          "name": "stdout",
          "text": [
            "<class 'pandas.core.frame.DataFrame'>\n",
            "RangeIndex: 22 entries, 0 to 21\n",
            "Data columns (total 5 columns):\n",
            " #   Column      Non-Null Count  Dtype \n",
            "---  ------      --------------  ----- \n",
            " 0   gender      22 non-null     int64 \n",
            " 1   m_status    22 non-null     int64 \n",
            " 2   buys        22 non-null     object\n",
            " 3   ages        22 non-null     object\n",
            " 4   income_num  22 non-null     int64 \n",
            "dtypes: int64(3), object(2)\n",
            "memory usage: 1008.0+ bytes\n"
          ]
        }
      ]
    },
    {
      "cell_type": "code",
      "source": [
        "df['ages'] = df.ages.astype(int)"
      ],
      "metadata": {
        "id": "lTbZD0ISLMAV"
      },
      "execution_count": 47,
      "outputs": []
    },
    {
      "cell_type": "markdown",
      "source": [
        "# Train-test spliting"
      ],
      "metadata": {
        "id": "YLJTrU2mOMDo"
      }
    },
    {
      "cell_type": "code",
      "source": [
        "X = df.drop('buys', axis=1)\n",
        "Y = df.buys.values"
      ],
      "metadata": {
        "id": "pfxnTqQxJ0R8"
      },
      "execution_count": 48,
      "outputs": []
    },
    {
      "cell_type": "code",
      "source": [
        "X_train, X_test, y_train, y_test = train_test_split(X, Y, test_size = 0.2, random_state = 100, shuffle=True)"
      ],
      "metadata": {
        "id": "sIT12XL5IP1V"
      },
      "execution_count": 49,
      "outputs": []
    },
    {
      "cell_type": "markdown",
      "source": [
        "# Building the Decision Tree model"
      ],
      "metadata": {
        "id": "rz4AgXh1OSAT"
      }
    },
    {
      "cell_type": "code",
      "source": [
        "decisionTree_entropy = DecisionTreeClassifier(criterion = \"entropy\", random_state = 100)"
      ],
      "metadata": {
        "id": "DrEXcfz7KeOt"
      },
      "execution_count": 50,
      "outputs": []
    },
    {
      "cell_type": "code",
      "source": [
        "decisionTree_entropy.fit(X_train, y_train)"
      ],
      "metadata": {
        "colab": {
          "base_uri": "https://localhost:8080/"
        },
        "id": "CSs_g58FKeLM",
        "outputId": "e0f867f7-1681-466d-f407-31ed2a4e8237"
      },
      "execution_count": 51,
      "outputs": [
        {
          "output_type": "execute_result",
          "data": {
            "text/plain": [
              "DecisionTreeClassifier(criterion='entropy', random_state=100)"
            ]
          },
          "metadata": {},
          "execution_count": 51
        }
      ]
    },
    {
      "cell_type": "markdown",
      "source": [
        "# Predicting on test data"
      ],
      "metadata": {
        "id": "Pm-WLvqHOWEi"
      }
    },
    {
      "cell_type": "code",
      "source": [
        "y_preds = decisionTree_entropy.predict(X_test)\n",
        "y_preds"
      ],
      "metadata": {
        "colab": {
          "base_uri": "https://localhost:8080/"
        },
        "id": "QfHjkyQ1LYR2",
        "outputId": "8a3e4d9b-ba02-4fc9-852a-6a565098110c"
      },
      "execution_count": 52,
      "outputs": [
        {
          "output_type": "execute_result",
          "data": {
            "text/plain": [
              "array(['no', 'yes', 'no', 'yes', 'no'], dtype=object)"
            ]
          },
          "metadata": {},
          "execution_count": 52
        }
      ]
    },
    {
      "cell_type": "markdown",
      "source": [
        "# Finding out confusion matrix and accuracy"
      ],
      "metadata": {
        "id": "L47tuMSOOZno"
      }
    },
    {
      "cell_type": "code",
      "source": [
        "print (\"Accuracy : \", accuracy_score(y_test, y_preds)*100)"
      ],
      "metadata": {
        "colab": {
          "base_uri": "https://localhost:8080/"
        },
        "id": "MI_SyzsyLcQN",
        "outputId": "1b754018-0442-49b5-d09f-4a6b40c5f554"
      },
      "execution_count": 53,
      "outputs": [
        {
          "output_type": "stream",
          "name": "stdout",
          "text": [
            "Accuracy :  60.0\n"
          ]
        }
      ]
    },
    {
      "cell_type": "code",
      "source": [
        "sns.heatmap(\n",
        "    confusion_matrix(y_test, y_preds),\n",
        "    annot=True,\n",
        "    cbar=False)\n",
        "plt.xlabel(\"true label\")\n",
        "plt.ylabel(\"predicted label\");"
      ],
      "metadata": {
        "colab": {
          "base_uri": "https://localhost:8080/",
          "height": 279
        },
        "id": "uK5Zy3I-LYOi",
        "outputId": "b50dc7c8-3780-404f-ca81-bc1dbba3ebbe"
      },
      "execution_count": 54,
      "outputs": [
        {
          "output_type": "display_data",
          "data": {
            "text/plain": [
              "<Figure size 432x288 with 1 Axes>"
            ],
            "image/png": "[encoded data removed]"
          },
          "metadata": {
            "needs_background": "light"
          }
        }
      ]
    }
  ]
}